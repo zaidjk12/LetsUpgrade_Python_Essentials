{
  "nbformat": 4,
  "nbformat_minor": 0,
  "metadata": {
    "colab": {
      "name": "LU Python Assignment 2.ipynb",
      "provenance": []
    },
    "kernelspec": {
      "name": "python3",
      "display_name": "Python 3"
    }
  },
  "cells": [
    {
      "cell_type": "code",
      "metadata": {
        "colab": {
          "base_uri": "https://localhost:8080/"
        },
        "id": "j1hPhrJ6e2XO",
        "outputId": "165e8713-e49a-4a75-8c51-ec11c4cfda7d"
      },
      "source": [
        "altitude =900\r\n",
        "if altitude < 1000:\r\n",
        "  print(\"Time to land the plane\",altitude)\r\n",
        "elif altitude > 1000 & altitude < 5000:\r\n",
        "  print(\"Hey! Come down to 1000ft for landing\")\r\n",
        "else:\r\n",
        "  altitude > 5000\r\n",
        "  print(\"Go around nearby and try later\")\r\n"
      ],
      "execution_count": 12,
      "outputs": [
        {
          "output_type": "stream",
          "text": [
            "Time to land the plane 900\n"
          ],
          "name": "stdout"
        }
      ]
    },
    {
      "cell_type": "code",
      "metadata": {
        "colab": {
          "base_uri": "https://localhost:8080/"
        },
        "id": "bl504Mqzh1ml",
        "outputId": "f627f08f-89bb-496c-e07f-80570d373742"
      },
      "source": [
        "altitude = 1200\r\n",
        "if altitude < 1000:\r\n",
        "  print(\"Time to land the plane\",altitude)\r\n",
        "elif altitude > 1000 & altitude < 5000:\r\n",
        "  print(\"Hey! Come down to 1000ft for landing\")\r\n",
        "else:\r\n",
        "  altitude > 5000\r\n",
        "  print(\"Go around nearby and try later\")"
      ],
      "execution_count": 14,
      "outputs": [
        {
          "output_type": "stream",
          "text": [
            "Hey! Come down to 1000ft for landing\n"
          ],
          "name": "stdout"
        }
      ]
    },
    {
      "cell_type": "code",
      "metadata": {
        "colab": {
          "base_uri": "https://localhost:8080/"
        },
        "id": "FnBHN6z5iAS9",
        "outputId": "ff80559f-26c4-4e55-9d76-fcc7ade0ff84"
      },
      "source": [
        "altitude = 6800\r\n",
        "if altitude < 1000:\r\n",
        "  print(\"Time to land the plane\",altitude)\r\n",
        "elif altitude > 1000 & altitude < 5000:\r\n",
        "  print(\"Hey! Come down to 1000ft for landing\")\r\n",
        "else:\r\n",
        "  altitude > 5000\r\n",
        "  print(\"Go around nearby and try later\")"
      ],
      "execution_count": 15,
      "outputs": [
        {
          "output_type": "stream",
          "text": [
            "Hey! Come down to 1000ft for landing\n"
          ],
          "name": "stdout"
        }
      ]
    }
  ]
}